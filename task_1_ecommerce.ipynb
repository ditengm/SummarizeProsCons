{
 "cells": [
  {
   "cell_type": "markdown",
   "id": "a4c937af-dbf5-48f0-976b-2cac4e48aafc",
   "metadata": {
    "jp-MarkdownHeadingCollapsed": true,
    "tags": []
   },
   "source": [
    "# Import"
   ]
  },
  {
   "cell_type": "code",
   "execution_count": 6,
   "id": "acf8fa26-8300-4686-a256-cada06ba08df",
   "metadata": {
    "tags": []
   },
   "outputs": [],
   "source": [
    "from datasets import load_dataset\n",
    "import pandas as pd\n",
    "import seaborn as sns\n",
    "import numpy as np\n",
    "import matplotlib.pyplot as plt\n",
    "import random\n",
    "from transformers import AutoModelForCausalLM, AutoTokenizer, GenerationConfig\n",
    "import re\n",
    "import torch\n",
    "from tqdm.notebook import tqdm"
   ]
  },
  {
   "cell_type": "markdown",
   "id": "ad17c5ee-0fa2-45c4-83db-a8aab0d3e4fa",
   "metadata": {
    "jp-MarkdownHeadingCollapsed": true,
    "tags": []
   },
   "source": [
    "# Load DataSet and Prepare"
   ]
  },
  {
   "cell_type": "markdown",
   "id": "cbfefb5b-3072-4a9a-b0cd-b414bb4f36be",
   "metadata": {},
   "source": [
    "Не нашёл датасетов с описанием продукта, только с отзывом пользователя."
   ]
  },
  {
   "cell_type": "code",
   "execution_count": 2,
   "id": "75f44383-e97e-498c-90b3-6f8521004f0b",
   "metadata": {
    "tags": []
   },
   "outputs": [],
   "source": [
    "user_prompt = 'Howdy!'\n",
    "system_prompt = 'You are a helpful assistant.'\n",
    "\n",
    "B_SYS, E_SYS = \"<<SYS>>\\n\", \"\\n<</SYS>>\\n\\n\"\n",
    "B_INST, E_INST = \"[INST]\", \"[/INST]\"\n",
    "\n",
    "# Chat model prompt\n",
    "prompt = f\"{B_INST} {B_SYS}{system_prompt.strip()}{E_SYS}{user_prompt.strip()} {E_INST}\\n\\n\""
   ]
  },
  {
   "cell_type": "code",
   "execution_count": 19,
   "id": "dddf598c-6e70-46e3-9ba8-f57a4564cdf3",
   "metadata": {
    "tags": []
   },
   "outputs": [],
   "source": [
    "models_id = ['mistralai/Mistral-7B-Instruct-v0.2', 'google/gemma-7b-it', 'mistralai/Mixtral-8x7B-Instruct-v0.1', 'meta-llama/Llama-2-7b-chat-hf']\n",
    "context_length = [8192, 8192, 32000, 4096]"
   ]
  },
  {
   "cell_type": "code",
   "execution_count": 20,
   "id": "f76acd92-6934-4102-8e6c-39484454492b",
   "metadata": {
    "tags": []
   },
   "outputs": [],
   "source": [
    "dataset = load_dataset(\"SetFit/amazon_reviews_multi_en\")\n",
    "\n",
    "df = pd.DataFrame.from_dict(data=dataset['train'])\n",
    "df = df.sample(n=len(df))"
   ]
  },
  {
   "cell_type": "code",
   "execution_count": 22,
   "id": "297a00db-2106-4e2f-8968-10213bee6985",
   "metadata": {
    "tags": []
   },
   "outputs": [
    {
     "data": {
      "text/html": [
       "<div>\n",
       "<style scoped>\n",
       "    .dataframe tbody tr th:only-of-type {\n",
       "        vertical-align: middle;\n",
       "    }\n",
       "\n",
       "    .dataframe tbody tr th {\n",
       "        vertical-align: top;\n",
       "    }\n",
       "\n",
       "    .dataframe thead th {\n",
       "        text-align: right;\n",
       "    }\n",
       "</style>\n",
       "<table border=\"1\" class=\"dataframe\">\n",
       "  <thead>\n",
       "    <tr style=\"text-align: right;\">\n",
       "      <th></th>\n",
       "      <th>id</th>\n",
       "      <th>text</th>\n",
       "      <th>label</th>\n",
       "      <th>label_text</th>\n",
       "    </tr>\n",
       "  </thead>\n",
       "  <tbody>\n",
       "    <tr>\n",
       "      <th>150015</th>\n",
       "      <td>en_0855533</td>\n",
       "      <td>Haven't installed yet but looks great</td>\n",
       "      <td>3</td>\n",
       "      <td>3</td>\n",
       "    </tr>\n",
       "    <tr>\n",
       "      <th>130753</th>\n",
       "      <td>en_0210412</td>\n",
       "      <td>Liked a lot..will buy again!</td>\n",
       "      <td>3</td>\n",
       "      <td>3</td>\n",
       "    </tr>\n",
       "    <tr>\n",
       "      <th>61262</th>\n",
       "      <td>en_0234775</td>\n",
       "      <td>The jacket was too small and the pants was too...</td>\n",
       "      <td>1</td>\n",
       "      <td>1</td>\n",
       "    </tr>\n",
       "    <tr>\n",
       "      <th>79627</th>\n",
       "      <td>en_0138215</td>\n",
       "      <td>I purchased this set for a king size mattress....</td>\n",
       "      <td>1</td>\n",
       "      <td>1</td>\n",
       "    </tr>\n",
       "    <tr>\n",
       "      <th>97583</th>\n",
       "      <td>en_0440744</td>\n",
       "      <td>It's ok for what it is ...I would expect any l...</td>\n",
       "      <td>2</td>\n",
       "      <td>2</td>\n",
       "    </tr>\n",
       "  </tbody>\n",
       "</table>\n",
       "</div>"
      ],
      "text/plain": [
       "                id                                               text  label  \\\n",
       "150015  en_0855533              Haven't installed yet but looks great      3   \n",
       "130753  en_0210412                       Liked a lot..will buy again!      3   \n",
       "61262   en_0234775  The jacket was too small and the pants was too...      1   \n",
       "79627   en_0138215  I purchased this set for a king size mattress....      1   \n",
       "97583   en_0440744  It's ok for what it is ...I would expect any l...      2   \n",
       "\n",
       "       label_text  \n",
       "150015          3  \n",
       "130753          3  \n",
       "61262           1  \n",
       "79627           1  \n",
       "97583           2  "
      ]
     },
     "execution_count": 22,
     "metadata": {},
     "output_type": "execute_result"
    }
   ],
   "source": [
    "df.head()"
   ]
  },
  {
   "cell_type": "code",
   "execution_count": 7,
   "id": "058d4b6a-b67f-4778-8b5c-10d73ed4e577",
   "metadata": {
    "tags": []
   },
   "outputs": [
    {
     "data": {
      "text/plain": [
       "'Serves purpose but awkward and uncomfortable after a few mins.'"
      ]
     },
     "execution_count": 7,
     "metadata": {},
     "output_type": "execute_result"
    }
   ],
   "source": [
    "df['text'].iloc[8]"
   ]
  },
  {
   "cell_type": "code",
   "execution_count": 8,
   "id": "d6264084-ea97-4a42-967b-d3a15cb94911",
   "metadata": {
    "tags": []
   },
   "outputs": [
    {
     "data": {
      "text/plain": [
       "(200000, 200000)"
      ]
     },
     "execution_count": 8,
     "metadata": {},
     "output_type": "execute_result"
    }
   ],
   "source": [
    "len(df), len(df['id'].unique())"
   ]
  },
  {
   "cell_type": "markdown",
   "id": "ae102097-09a6-4f9b-ac74-ddcf834c349d",
   "metadata": {},
   "source": [
    "Создаём датафрейм со всеми лейблами для теста модели"
   ]
  },
  {
   "cell_type": "code",
   "execution_count": 9,
   "id": "ad30f706-0d41-4a81-86fd-197df2b3cbc5",
   "metadata": {
    "tags": []
   },
   "outputs": [],
   "source": [
    "batch_size_dict = 2\n",
    "dict_label = {}\n",
    "for label in df['label'].unique():\n",
    "    df_label = df[df['label'] == label]\n",
    "    dict_label.update({str(label): list(df_label['text'].iloc[:batch_size_dict])})\n",
    "df_train = pd.DataFrame(data=dict_label)"
   ]
  },
  {
   "cell_type": "markdown",
   "id": "c7c76113-1688-4b99-bf8c-c3dda4a610b8",
   "metadata": {
    "tags": []
   },
   "source": [
    "# EDA"
   ]
  },
  {
   "cell_type": "markdown",
   "id": "9fcb60f8-47c3-449a-9de8-16c17ff9c39c",
   "metadata": {
    "jp-MarkdownHeadingCollapsed": true,
    "tags": []
   },
   "source": [
    "## Check data values"
   ]
  },
  {
   "cell_type": "code",
   "execution_count": 6,
   "id": "6d19ac53-b1f3-4083-adaa-12435d80f5aa",
   "metadata": {
    "tags": []
   },
   "outputs": [
    {
     "name": "stdout",
     "output_type": "stream",
     "text": [
      "<class 'pandas.core.frame.DataFrame'>\n",
      "RangeIndex: 200000 entries, 0 to 199999\n",
      "Data columns (total 4 columns):\n",
      " #   Column      Non-Null Count   Dtype \n",
      "---  ------      --------------   ----- \n",
      " 0   id          200000 non-null  object\n",
      " 1   text        200000 non-null  object\n",
      " 2   label       200000 non-null  int64 \n",
      " 3   label_text  200000 non-null  object\n",
      "dtypes: int64(1), object(3)\n",
      "memory usage: 6.1+ MB\n"
     ]
    }
   ],
   "source": [
    "df_train.info()"
   ]
  },
  {
   "cell_type": "code",
   "execution_count": 7,
   "id": "97439b6d-265a-4360-a79e-07907b18ade5",
   "metadata": {
    "tags": []
   },
   "outputs": [
    {
     "data": {
      "text/plain": [
       "(array([0, 1, 2, 3, 4]), array(['0', '1', '2', '3', '4'], dtype=object))"
      ]
     },
     "execution_count": 7,
     "metadata": {},
     "output_type": "execute_result"
    }
   ],
   "source": [
    "df_train['label'].unique(), df_train['label_text'].unique()"
   ]
  },
  {
   "cell_type": "markdown",
   "id": "b3b9b7c2-a865-4906-935d-4773a001b1ea",
   "metadata": {
    "jp-MarkdownHeadingCollapsed": true,
    "tags": []
   },
   "source": [
    "## Check length data"
   ]
  },
  {
   "cell_type": "code",
   "execution_count": 8,
   "id": "c3919d1f-81ab-4447-b42d-c63f22189fc6",
   "metadata": {
    "tags": []
   },
   "outputs": [],
   "source": [
    "len_text = np.array(df_train['text'].apply(lambda x: len(x)))"
   ]
  },
  {
   "cell_type": "code",
   "execution_count": 9,
   "id": "a39e61d6-5524-4164-88d4-601a651da15f",
   "metadata": {
    "tags": []
   },
   "outputs": [
    {
     "name": "stdout",
     "output_type": "stream",
     "text": [
      "mean - 178.84632\n",
      "median - 125.0\n"
     ]
    }
   ],
   "source": [
    "mean, median = np.mean(len_text), np.median(len_text)\n",
    "print(f\"mean - {mean}\")\n",
    "print(f\"median - {median}\")"
   ]
  },
  {
   "cell_type": "code",
   "execution_count": 54,
   "id": "5205aa63-70da-4f31-9879-9422105e1f77",
   "metadata": {
    "tags": []
   },
   "outputs": [
    {
     "data": {
      "image/png": "[encoded data removed]",
      "text/plain": [
       "<Figure size 640x480 with 1 Axes>"
      ]
     },
     "metadata": {},
     "output_type": "display_data"
    }
   ],
   "source": [
    "sns.histplot(x=len_text)\n",
    "plt.axvline(x=mean, color='red')\n",
    "plt.axvline(x=median, color='green')\n",
    "plt.draw()"
   ]
  },
  {
   "cell_type": "code",
   "execution_count": 55,
   "id": "9cff7398-6141-4114-9016-f84e6a66fc6d",
   "metadata": {
    "tags": []
   },
   "outputs": [
    {
     "data": {
      "image/png": "[encoded data removed]",
      "text/plain": [
       "<Figure size 640x480 with 1 Axes>"
      ]
     },
     "metadata": {},
     "output_type": "display_data"
    }
   ],
   "source": [
    "sns.boxplot(x=len_text)\n",
    "plt.draw()"
   ]
  },
  {
   "cell_type": "markdown",
   "id": "350f55ca-cbce-4c6c-870e-3a464b9d687b",
   "metadata": {
    "jp-MarkdownHeadingCollapsed": true,
    "tags": []
   },
   "source": [
    "## Check tokens data"
   ]
  },
  {
   "cell_type": "code",
   "execution_count": 14,
   "id": "22131cea-9d20-448a-ba12-083d598fde9f",
   "metadata": {
    "tags": []
   },
   "outputs": [
    {
     "data": {
      "text/plain": [
       "{'input_ids': [1, 390, 17284, 390, 17284, 390, 10967, 1705, 28722], 'attention_mask': [1, 1, 1, 1, 1, 1, 1, 1, 1]}"
      ]
     },
     "execution_count": 14,
     "metadata": {},
     "output_type": "execute_result"
    }
   ],
   "source": [
    "tokenizer('asfas asfas asfbdaf')"
   ]
  },
  {
   "cell_type": "code",
   "execution_count": 11,
   "id": "44e6e70a-8f28-4dfe-b3f8-6fca98ce819c",
   "metadata": {
    "tags": []
   },
   "outputs": [
    {
     "name": "stdout",
     "output_type": "stream",
     "text": [
      "model_id - mistralai/Mistral-7B-Instruct-v0.2\n",
      "mean - 44.025215\n",
      "median - 31.0\n",
      "\n",
      "model_id - google/gemma-7b-it\n",
      "mean - 41.40716\n",
      "median - 29.0\n",
      "\n",
      "model_id - mistralai/Mixtral-8x7B-Instruct-v0.1\n",
      "mean - 44.025215\n",
      "median - 31.0\n",
      "\n",
      "model_id - meta-llama/Llama-2-7b-chat-hf\n",
      "mean - 45.68618\n",
      "median - 33.0\n",
      "\n"
     ]
    },
    {
     "data": {
      "image/png": "[encoded data removed]",
      "text/plain": [
       "<Figure size 640x480 with 1 Axes>"
      ]
     },
     "metadata": {},
     "output_type": "display_data"
    },
    {
     "data": {
      "image/png": "[encoded data removed]",
      "text/plain": [
       "<Figure size 640x480 with 1 Axes>"
      ]
     },
     "metadata": {},
     "output_type": "display_data"
    },
    {
     "data": {
      "image/png": "[encoded data removed]",
      "text/plain": [
       "<Figure size 640x480 with 1 Axes>"
      ]
     },
     "metadata": {},
     "output_type": "display_data"
    },
    {
     "data": {
      "image/png": "[encoded data removed]",
      "text/plain": [
       "<Figure size 640x480 with 1 Axes>"
      ]
     },
     "metadata": {},
     "output_type": "display_data"
    }
   ],
   "source": [
    "def get_count_tokens(tokenizer, text: str):\n",
    "    return len(tokenizer(text)['input_ids'])\n",
    "\n",
    "models_id = ['mistralai/Mistral-7B-Instruct-v0.2', 'google/gemma-7b-it', 'mistralai/Mixtral-8x7B-Instruct-v0.1', 'meta-llama/Llama-2-7b-chat-hf']\n",
    "context_length = [8192, 8192, 32000, 4096]\n",
    "\n",
    "for i in range(len(models_id)):\n",
    "    tokenizer = AutoTokenizer.from_pretrained(models_id[i])\n",
    "    tokens_text = np.array(df_train['text'].apply(lambda x: get_count_tokens(tokenizer, x)))\n",
    "    \n",
    "    mean, median = np.mean(tokens_text), np.median(tokens_text)\n",
    "    print(f\"model_id - {models_id[i]}\")\n",
    "    print(f\"mean - {mean}\")\n",
    "    print(f\"median - {median}\")\n",
    "    print()\n",
    "    \n",
    "    plt.figure(i)    \n",
    "    sns.histplot(x=tokens_text)\n",
    "    plt.axvline(x=mean, color='red')\n",
    "    plt.axvline(x=median, color='green')\n",
    "    plt.axvline(x=context_length[i])\n",
    "    plt.draw()"
   ]
  },
  {
   "cell_type": "markdown",
   "id": "ef851759-70af-4548-a5bd-631afec73c9a",
   "metadata": {
    "jp-MarkdownHeadingCollapsed": true,
    "tags": []
   },
   "source": [
    "## Итог по EDA"
   ]
  },
  {
   "cell_type": "markdown",
   "id": "d5913696-64fb-471a-b4a5-2ce10e96513f",
   "metadata": {},
   "source": [
    "Длина контекста каждой из модели позволяет засунуть текст в модель без обрезки контекста"
   ]
  },
  {
   "cell_type": "markdown",
   "id": "91edf22b-94db-4f11-892e-8aa09b5a8690",
   "metadata": {
    "jp-MarkdownHeadingCollapsed": true,
    "tags": []
   },
   "source": [
    "# Clean Data"
   ]
  },
  {
   "cell_type": "code",
   "execution_count": 25,
   "id": "c9a1f5f3-6dad-42f4-808b-c82d42edcf64",
   "metadata": {
    "tags": []
   },
   "outputs": [
    {
     "name": "stdout",
     "output_type": "stream",
     "text": [
      "We bought this specifically to use while we traveled over the holidays. It is nice and small which makes it easier to take with us and doesn't take as much room as a full size pack n play. I love the vibration features as well. My son was 2 months old when we used this and there wasn't too much room left for growing in the bassinet portion, which is fine since the rest of it is big enough for him to grow!\n",
      "--------------------------------------------------\n",
      "Not what inspect to get\n",
      "--------------------------------------------------\n",
      "Too small, would love this product if the trays held more pieces. Wish I had checked the size before purchase.\n",
      "--------------------------------------------------\n",
      "These jeans possess the ability to flex a bit, which is nice. They fit me well and make me look good. Their light weight makes them a good choice when I go out dancing. I like the smoke / charcoal color because I can pair them with black shoes for a more formal look, casual shoes for work, and running/tennis shoes for play time. They were very reasonably priced, so I will purchase them again.\n",
      "--------------------------------------------------\n",
      "Great quality and fit as expected.\n",
      "--------------------------------------------------\n",
      "There is no after-taste and though I don't feel any differently, I know this Is good for me!\n",
      "--------------------------------------------------\n",
      "I wasn't sure about reading a paranormal suspense but I'm glad I read this. Awesome read. Curious but sad in many ways. Looking forward to the next book in the imprint series.\n",
      "--------------------------------------------------\n"
     ]
    }
   ],
   "source": [
    "iters = 7\n",
    "for i in range(iters):\n",
    "    print(random.choice(list(df_train['text'])))\n",
    "    print('-'*50)"
   ]
  },
  {
   "cell_type": "markdown",
   "id": "d1373072-a5b8-466e-9ddc-97760913d5bd",
   "metadata": {},
   "source": [
    "Посмотрев несколько раз глазами на рандномные семплы данных, мы можем увидеть, что данные чистые: без битовых символов, переносов и другого мусора."
   ]
  },
  {
   "cell_type": "markdown",
   "id": "13d42c43-6935-4f7b-91e9-f8c7c264b467",
   "metadata": {
    "jp-MarkdownHeadingCollapsed": true,
    "tags": []
   },
   "source": [
    "# Solving problem"
   ]
  },
  {
   "attachments": {
    "fb41a8d6-72c5-4497-90d1-0daa2a53994a.png": {
     "image/png": "[encoded data removed]"
    }
   },
   "cell_type": "markdown",
   "id": "a3b99f52-94c6-4e8c-9aea-1aea18a4f484",
   "metadata": {},
   "source": [
    "![Screenshot 2024-03-06 at 18.37.31.png](attachment:fb41a8d6-72c5-4497-90d1-0daa2a53994a.png)"
   ]
  },
  {
   "cell_type": "markdown",
   "id": "80fbbf7d-f963-42e1-8a2b-47077a46774d",
   "metadata": {},
   "source": [
    "\n",
    "**Суть решения будет заключатся в том, что:**\n",
    "1. Просим модель придумать плюсы, если их нет, то пусть напишет `No`.\n",
    "2. Просим модель придумать минусы, если их нет, то пусть напишет `No`.\n",
    "3. Попросим модель саму отсортировать плюсы и минусы, исходя из её прошлых генераций и отзыва пользователя."
   ]
  },
  {
   "cell_type": "markdown",
   "id": "28f0201a-99c2-4d3e-b24c-a9567e822886",
   "metadata": {
    "tags": []
   },
   "source": [
    "## mistralai/Mistral-7B-Instruct-v0.2'"
   ]
  },
  {
   "cell_type": "code",
   "execution_count": 10,
   "id": "28e6ee42-4579-4d1d-96fb-24611c1d57fa",
   "metadata": {
    "tags": []
   },
   "outputs": [
    {
     "data": {
      "application/vnd.jupyter.widget-view+json": {
       "model_id": "329d166bcc2a412a954858b2d61ce1ce",
       "version_major": 2,
       "version_minor": 0
      },
      "text/plain": [
       "Loading checkpoint shards:   0%|          | 0/3 [00:00<?, ?it/s]"
      ]
     },
     "metadata": {},
     "output_type": "display_data"
    }
   ],
   "source": [
    "model_id = \"mistralai/Mistral-7B-Instruct-v0.2\"\n",
    "tokenizer = AutoTokenizer.from_pretrained(model_id)\n",
    "model = AutoModelForCausalLM.from_pretrained(model_id, device_map=\"auto\")"
   ]
  },
  {
   "cell_type": "code",
   "execution_count": 11,
   "id": "c0002ec6-5b3b-4744-b2ce-43f1fee66a5d",
   "metadata": {
    "tags": []
   },
   "outputs": [
    {
     "data": {
      "text/html": [
       "<div>\n",
       "<style scoped>\n",
       "    .dataframe tbody tr th:only-of-type {\n",
       "        vertical-align: middle;\n",
       "    }\n",
       "\n",
       "    .dataframe tbody tr th {\n",
       "        vertical-align: top;\n",
       "    }\n",
       "\n",
       "    .dataframe thead th {\n",
       "        text-align: right;\n",
       "    }\n",
       "</style>\n",
       "<table border=\"1\" class=\"dataframe\">\n",
       "  <thead>\n",
       "    <tr style=\"text-align: right;\">\n",
       "      <th></th>\n",
       "      <th>4</th>\n",
       "      <th>3</th>\n",
       "      <th>1</th>\n",
       "      <th>2</th>\n",
       "      <th>0</th>\n",
       "    </tr>\n",
       "  </thead>\n",
       "  <tbody>\n",
       "    <tr>\n",
       "      <th>0</th>\n",
       "      <td>Great fit. Easy to put on.</td>\n",
       "      <td>I love the characters and town the authors hav...</td>\n",
       "      <td>These SMELL. It's a very odd smell. I've no id...</td>\n",
       "      <td>I ordered the California King &amp; it didn’t cove...</td>\n",
       "      <td>This app asks you to pay otherwise it loads th...</td>\n",
       "    </tr>\n",
       "    <tr>\n",
       "      <th>1</th>\n",
       "      <td>Love this quality product in gray.</td>\n",
       "      <td>Was a good read. Gives an American a glimpse o...</td>\n",
       "      <td>The unit seemed to help. After several weeks, ...</td>\n",
       "      <td>Serves purpose but awkward and uncomfortable a...</td>\n",
       "      <td>Didn't last but a half a day</td>\n",
       "    </tr>\n",
       "  </tbody>\n",
       "</table>\n",
       "</div>"
      ],
      "text/plain": [
       "                                    4  \\\n",
       "0          Great fit. Easy to put on.   \n",
       "1  Love this quality product in gray.   \n",
       "\n",
       "                                                   3  \\\n",
       "0  I love the characters and town the authors hav...   \n",
       "1  Was a good read. Gives an American a glimpse o...   \n",
       "\n",
       "                                                   1  \\\n",
       "0  These SMELL. It's a very odd smell. I've no id...   \n",
       "1  The unit seemed to help. After several weeks, ...   \n",
       "\n",
       "                                                   2  \\\n",
       "0  I ordered the California King & it didn’t cove...   \n",
       "1  Serves purpose but awkward and uncomfortable a...   \n",
       "\n",
       "                                                   0  \n",
       "0  This app asks you to pay otherwise it loads th...  \n",
       "1                       Didn't last but a half a day  "
      ]
     },
     "execution_count": 11,
     "metadata": {},
     "output_type": "execute_result"
    }
   ],
   "source": [
    "df_train"
   ]
  },
  {
   "cell_type": "markdown",
   "id": "c8681481-80f4-459e-89ab-58216033dd76",
   "metadata": {
    "jp-MarkdownHeadingCollapsed": true,
    "tags": []
   },
   "source": [
    "### Prompt-Tuning"
   ]
  },
  {
   "cell_type": "markdown",
   "id": "ef650c6a-34b1-4ad0-b9a7-f008b070fcd6",
   "metadata": {},
   "source": [
    "Сгенерируем шаги оценивания с помощью модели. \n",
    "\n",
    "Пусть модель сама подумает, как ей оценивать плюсы и минусы.\n",
    "`Идея взята из статьи про G-Eval и из здравого смысла, когда модели даём токены из своего же распределения`"
   ]
  },
  {
   "cell_type": "code",
   "execution_count": 54,
   "id": "cc67aa66-e3d8-40e8-b327-ff98df93c411",
   "metadata": {
    "tags": []
   },
   "outputs": [],
   "source": [
    "pros_template_prompt = \"\"\"You have been provided with a user review of the product. Please write down the benefits that you found in the review.\n",
    "The answer should contain no more than 2-3 words of merit.\n",
    "If you have not found any advantages, then do not try to come up with them, just return only the word \"No\"\n",
    "Write the pros separated by commas: \"word_1, word_2, word_3...\"\n",
    "Look at an example to better understand your task.\n",
    "\n",
    "write down the steps as you would give the answer:\"\"\""
   ]
  },
  {
   "cell_type": "code",
   "execution_count": 55,
   "id": "065e985b-2d6d-4dba-91b4-faecc1361218",
   "metadata": {
    "tags": []
   },
   "outputs": [],
   "source": [
    "messages = [\n",
    "    {\"role\": \"user\", \"content\": pros_template_prompt},\n",
    "]\n",
    "temperature = 0.7\n",
    "inputs = tokenizer.apply_chat_template(messages, return_tensors=\"pt\").to(\"cuda\")\n",
    "outputs = model.generate(inputs, pad_token_id=2 ,temperature=temperature, max_new_tokens=1000, do_sample=True)\n",
    "gen_output = tokenizer.decode(outputs[0, len(inputs[0]):], skip_special_tokens=True)"
   ]
  },
  {
   "cell_type": "code",
   "execution_count": 56,
   "id": "67bf160c-d452-41ae-b353-e3ba5dfced90",
   "metadata": {
    "tags": []
   },
   "outputs": [
    {
     "name": "stdout",
     "output_type": "stream",
     "text": [
      "1. Read the user review thoroughly.\n",
      "2. Identify the key words or phrases that suggest benefits.\n",
      "3. Extract those benefits and write them as single words.\n",
      "4. Separate the benefits with commas: \"word_1, word_2, word_3...\"\n",
      "\n",
      "Review: \"The product is extremely fast, efficient, and reliable. It has significantly improved my productivity.\"\n",
      "\n",
      "Answer: fast, efficient, reliable, productivity.\n"
     ]
    }
   ],
   "source": [
    "print(gen_output)"
   ]
  },
  {
   "cell_type": "code",
   "execution_count": 94,
   "id": "c9b8b35f-6ae0-4b73-bb70-6c34a5ec41f3",
   "metadata": {
    "tags": []
   },
   "outputs": [],
   "source": [
    "cons_template_prompt = \"\"\"You have been provided with a user review of the product. Please describe the cons that you found in the review.\n",
    "The answer should contain no more than 2-3 words that describe the construction.\n",
    "If you have not found any cons, then do not try to come up with them, just return only the word \"No\"\n",
    "Write the pros separated by commas: \"word_1, word_2, word_3...\"\n",
    "Look at an example to better understand your task.\n",
    "\n",
    "write down the steps as you would give the answer:\"\"\""
   ]
  },
  {
   "cell_type": "code",
   "execution_count": 95,
   "id": "0e3f437f-0301-4368-b432-7c39b5301151",
   "metadata": {
    "tags": []
   },
   "outputs": [],
   "source": [
    "messages = [\n",
    "    {\"role\": \"user\", \"content\": cons_template_prompt},\n",
    "]\n",
    "temperature = 0.7\n",
    "inputs = tokenizer.apply_chat_template(messages, return_tensors=\"pt\").to(\"cuda\")\n",
    "outputs = model.generate(inputs, pad_token_id=2 ,temperature=temperature, max_new_tokens=1000, do_sample=True)\n",
    "gen_output = tokenizer.decode(outputs[0, len(inputs[0]):], skip_special_tokens=True)"
   ]
  },
  {
   "cell_type": "code",
   "execution_count": 96,
   "id": "6e2fb638-bff4-45cc-8ae6-4e9236a13167",
   "metadata": {
    "tags": []
   },
   "outputs": [
    {
     "name": "stdout",
     "output_type": "stream",
     "text": [
      "1. Read the user review carefully.\n",
      "2. Identify any cons related to construction mentioned.\n",
      "3. If no cons are mentioned, return \"No\".\n",
      "4. If cons are mentioned, write down the keywords that describe them.\n",
      "5. Return the answer with the cons keywords.\n",
      "\n",
      "Example:\n",
      "User review: \"I love the design of the product, but the plastic feels cheap and the stitching is coming undone.\"\n",
      "\n",
      "Answer: \"cheap plastic, coming undone stitching.\"\n",
      "\n",
      "User review: \"The product is well-made and I have had no issues with it.\"\n",
      "\n",
      "Answer: \"No\"\n"
     ]
    }
   ],
   "source": [
    "print(gen_output)"
   ]
  },
  {
   "cell_type": "markdown",
   "id": "81f67fa7-09b2-4da6-8a7a-ccaa3999b5ab",
   "metadata": {},
   "source": [
    "### Pros-Prompt & Cons-Prompt"
   ]
  },
  {
   "cell_type": "code",
   "execution_count": 80,
   "id": "28c11731-0e67-4bea-8bd6-11f90a7f21f2",
   "metadata": {
    "tags": []
   },
   "outputs": [],
   "source": [
    "def get_generation_model(model, prompt: str, temperature: int, max_new_tokens: int) -> str:\n",
    "    messages = [\n",
    "        {\"role\": \"user\", \"content\": prompt},\n",
    "    ]\n",
    "    inputs = tokenizer.apply_chat_template(messages, return_tensors=\"pt\").to(\"cuda\")\n",
    "    outputs = model.generate(inputs, pad_token_id=2 ,temperature=temperature, max_new_tokens=max_new_tokens, do_sample=True)\n",
    "    gen_output = tokenizer.decode(outputs[0, len(inputs[0]):], skip_special_tokens=True)\n",
    "    return gen_output"
   ]
  },
  {
   "cell_type": "code",
   "execution_count": 81,
   "id": "f4eec74c-141a-4063-81b6-96c07dadf842",
   "metadata": {
    "tags": []
   },
   "outputs": [],
   "source": [
    "pros_template_prompt = \"\"\"You have been provided with a user review of the product. Please write down the benefits that you found in the review.\n",
    "The answer should contain no more than 2-3 words of merit.\n",
    "If you have not found any advantages, then do not try to come up with them, just return only the word \"No\".\n",
    "Write the pros separated by commas: \"word_1, word_2, word_3...\"\n",
    "\n",
    "Example 1:\n",
    "Review: \"Excellent value for money, well-made product, perfect for our coffee pot, for a small fraction of the cost of the same product in stores.\"\n",
    "You answer (word_1, word_2, word_3...): \"Good quality, competitive price\"\n",
    "\n",
    "Example 2:\n",
    "\"There is a terrible one band across the top. Supposed to keep the shirt on your shoulders but seems more of like a waistband.\"\n",
    "You answer (word_1, word_2, word_3... or No): \"No\"\n",
    "\n",
    "Your assessment steps:\n",
    "1. Read the user review thoroughly.\n",
    "2. Identify the key words or phrases that suggest benefits.\n",
    "3. Extract those benefits and write them as single words.\n",
    "4. Separate the benefits with commas: \"word_1, word_2, word_3...\"\n",
    "\n",
    "\n",
    "Review:{review}\n",
    "\n",
    "You answer (word_1, word_2, word_3...or No):\"\"\"\n",
    "\n",
    "cons_template_prompt = \"\"\"You have been provided with a user review of the product. Please describe the cons that you found in the review.\n",
    "The answer should contain no more than 2-3 words that describe the construction.\n",
    "If you have not found any cons, then do not try to come up with them, just return only the word \"No\"\n",
    "Write the pros separated by commas: \"word_1, word_2, word_3...\"\n",
    "Look at an example to better understand your task.\n",
    "\n",
    "Example 1:\n",
    "\"There is a terrible one band across the top. Supposed to keep the shirt on your shoulders but seems more of like a waistband.\"\n",
    "You answer (word_1, word_2, word_3... or No): \"Terrible streak, not the right size\"\n",
    "\n",
    "Example 2:\n",
    "Review: \"Excellent value for money, well-made product, perfect for our coffee pot, for a small fraction of the cost of the same product in stores.\"\n",
    "You answer (word_1, word_2, word_3...): \"No\"\n",
    "\n",
    "Your assessment steps:\n",
    "1. Read the user review carefully.\n",
    "2. Identify any cons related to construction mentioned.\n",
    "3. If no cons are mentioned, return \"No\".\n",
    "4. If cons are mentioned, write down the keywords that describe them.\n",
    "5. Return the answer with the cons keywords.\n",
    "\n",
    "\n",
    "Review:{review}\n",
    "\n",
    "You answer (word_1, word_2, word_3...or No):\"\"\""
   ]
  },
  {
   "cell_type": "markdown",
   "id": "b884d8e8-1e75-45ba-9a25-c893aa09dd73",
   "metadata": {},
   "source": [
    "**Плюсы отзыва**"
   ]
  },
  {
   "cell_type": "code",
   "execution_count": 82,
   "id": "faf9caab-43b4-4352-9493-e797f9ef345e",
   "metadata": {
    "tags": []
   },
   "outputs": [],
   "source": [
    "max_new_tokens = 20\n",
    "temperature = 0.7"
   ]
  },
  {
   "cell_type": "code",
   "execution_count": 83,
   "id": "7fc2538e-c2ff-49fe-b049-46f1ae0e6636",
   "metadata": {
    "tags": []
   },
   "outputs": [
    {
     "name": "stdout",
     "output_type": "stream",
     "text": [
      "label - 4\n",
      "review - Great fit. Easy to put on.\n",
      "gen_output - Comfortable, Easy to wear\n",
      "--------------------------------------------------\n",
      "label - 4\n",
      "review - Love this quality product in gray.\n",
      "gen_output - Love, quality [Pro tip: Always consider the context of the word in the sentence to ensure it\n",
      "--------------------------------------------------\n",
      "label - 3\n",
      "review - I love the characters and town the authors have created. My favorite thing is the relationship between Cee-cee and her sisters. Great to read about a middle aged woman finding her truth and living her best life!\n",
      "gen_output - Enjoyable characters, Strong relationship, Middle-aged woman, Living best life.\n",
      "--------------------------------------------------\n",
      "label - 3\n",
      "review - Was a good read. Gives an American a glimpse of British life. Had lots of terms and phrases that we don't use, but could easily figure out. The dry sense of humor was very appealing to me.\n",
      "gen_output - Entertaining, Cultural insight, Clear understanding.\n",
      "--------------------------------------------------\n",
      "label - 1\n",
      "review - These SMELL. It's a very odd smell. I've no idea why they smell so bad/weird, but I'm hoping it goes away, as I threw the box away due to the fact that we we're moving and I just threw all the cardboard away at once. Also they're not very strong. Dont store anything heavy in them, but they're ok for lighter items.\n",
      "gen_output - No (or, if you want to be technical, \"Odd smell\", \"Weak\")\n",
      "--------------------------------------------------\n",
      "label - 1\n",
      "review - The unit seemed to help. After several weeks, fingers started to break. Trashed the entire unit.\n",
      "gen_output - No.\n",
      "--------------------------------------------------\n",
      "label - 2\n",
      "review - I ordered the California King & it didn’t cover either side of the bed yet drug on the floor on the end of the bed. VERY, VERY disappointing.\n",
      "gen_output - No. (In this case, the review mentions a problem rather than a benefit.)\n",
      "--------------------------------------------------\n",
      "label - 2\n",
      "review - Serves purpose but awkward and uncomfortable after a few mins.\n",
      "gen_output - Serves purpose, awkward, uncomfortable\n",
      "(Serves purpose, Uncomfortable)\n",
      "\n",
      "Pro\n",
      "--------------------------------------------------\n",
      "label - 0\n",
      "review - This app asks you to pay otherwise it loads the same shows that one can see on Nick JR.\n",
      "gen_output - No. (This review mentions a disadvantage, not a benefit.)\n",
      "--------------------------------------------------\n",
      "label - 0\n",
      "review - Didn't last but a half a day\n",
      "gen_output - No.\n",
      "--------------------------------------------------\n"
     ]
    }
   ],
   "source": [
    "pros_output_lst = []\n",
    "for column in list(df_train.columns):\n",
    "    for review in list(df_train[column]):\n",
    "        prompt = pros_template_prompt.format(review=review)\n",
    "        gen_output = get_generation_model(model, prompt, temperature, max_new_tokens)\n",
    "        print(f\"label - {column}\")\n",
    "        print(f'review - {review}')\n",
    "        print(f\"gen_output - {gen_output}\")\n",
    "        print('-'*50)\n",
    "        pros_output_lst.append(gen_output)"
   ]
  },
  {
   "cell_type": "markdown",
   "id": "50b89e9c-ea4d-46a3-80ff-fc6b06993737",
   "metadata": {},
   "source": [
    "**Минусы отзыва**"
   ]
  },
  {
   "cell_type": "code",
   "execution_count": 84,
   "id": "8918e08e-0832-4f8a-89c1-c6e9a6b5a199",
   "metadata": {
    "tags": []
   },
   "outputs": [
    {
     "name": "stdout",
     "output_type": "stream",
     "text": [
      "label - 4\n",
      "review - Great fit. Easy to put on.\n",
      "gen_output - No.\n",
      "--------------------------------------------------\n",
      "label - 4\n",
      "review - Love this quality product in gray.\n",
      "gen_output - No.\n",
      "--------------------------------------------------\n",
      "label - 3\n",
      "review - I love the characters and town the authors have created. My favorite thing is the relationship between Cee-cee and her sisters. Great to read about a middle aged woman finding her truth and living her best life!\n",
      "gen_output - No.\n",
      "--------------------------------------------------\n",
      "label - 3\n",
      "review - Was a good read. Gives an American a glimpse of British life. Had lots of terms and phrases that we don't use, but could easily figure out. The dry sense of humor was very appealing to me.\n",
      "gen_output - No.\n",
      "--------------------------------------------------\n",
      "label - 1\n",
      "review - These SMELL. It's a very odd smell. I've no idea why they smell so bad/weird, but I'm hoping it goes away, as I threw the box away due to the fact that we we're moving and I just threw all the cardboard away at once. Also they're not very strong. Dont store anything heavy in them, but they're ok for lighter items.\n",
      "gen_output - Weak, odd smell.\n",
      "--------------------------------------------------\n",
      "label - 1\n",
      "review - The unit seemed to help. After several weeks, fingers started to break. Trashed the entire unit.\n",
      "gen_output - Fingers broke, unit trashed.\n",
      "\n",
      "(Note: In this example, the cons\n",
      "--------------------------------------------------\n",
      "label - 2\n",
      "review - I ordered the California King & it didn’t cover either side of the bed yet drug on the floor on the end of the bed. VERY, VERY disappointing.\n",
      "gen_output - Short, not wide enough\n",
      "--------------------------------------------------\n",
      "label - 2\n",
      "review - Serves purpose but awkward and uncomfortable after a few mins.\n",
      "gen_output - Awkward, uncomfortable.\n",
      "--------------------------------------------------\n",
      "label - 0\n",
      "review - This app asks you to pay otherwise it loads the same shows that one can see on Nick JR.\n",
      "gen_output - Paywall, no construction cons mentioned in the review.\n",
      "--------------------------------------------------\n",
      "label - 0\n",
      "review - Didn't last but a half a day\n",
      "gen_output - Low durability\n",
      "--------------------------------------------------\n"
     ]
    }
   ],
   "source": [
    "cons_output_lst = []\n",
    "reviews = []\n",
    "for column in list(df_train.columns):\n",
    "    for review in list(df_train[column]):\n",
    "        prompt = cons_template_prompt.format(review=review)\n",
    "        gen_output = get_generation_model(model, prompt, temperature, max_new_tokens)\n",
    "        print(f\"label - {column}\")\n",
    "        print(f'review - {review}')\n",
    "        print(f\"gen_output - {gen_output}\")\n",
    "        print('-'*50)\n",
    "        cons_output_lst.append(gen_output)\n",
    "        reviews.append(review)"
   ]
  },
  {
   "cell_type": "markdown",
   "id": "b94aef6b-9755-45d3-84e1-4da2be639fa9",
   "metadata": {},
   "source": [
    "`label` - это оценка пользователя\n",
    "\n",
    "`review` - отзыв пользователя\n",
    "\n",
    "`gen_output` - генерация модели\n",
    "\n",
    "**Вывод:** \n",
    "1. Модель возвращает `No`, когда `label` равен 1, 2, 3 для положительных и `No` для 3, 4 для отрицательных - это **хорошо**, так как модель понимает, что мы от неё просим. Но при этом она может найти определённые плюсы, поэтому стоит **сделать постобработку**"
   ]
  },
  {
   "cell_type": "markdown",
   "id": "9c11559d-e904-43ff-aff0-cc95a37e48cf",
   "metadata": {
    "tags": []
   },
   "source": [
    "### PostProccesing"
   ]
  },
  {
   "cell_type": "code",
   "execution_count": 85,
   "id": "d4399cd4-4161-4d1a-92a5-040b47939824",
   "metadata": {
    "tags": []
   },
   "outputs": [],
   "source": [
    "def extract_text(text):\n",
    "    # Remove text inside parentheses and surrounding spaces\n",
    "    text = re.sub(r'\\n.*', '', text)\n",
    "    text = re.sub(r'\\s*\\([^)]*\\)\\s*', '', text)\n",
    "    text = re.sub(r'\\[.*', '', text)\n",
    "    text = text.replace('\"', '')\n",
    "    text = text.replace('You answer', '')\n",
    "    text = text.replace('\\n', '')\n",
    "    text = text.replace('Review', '')\n",
    "    text = text.replace('(', '')\n",
    "    text = text.replace(')', '')\n",
    "    text = text.replace('.', '')\n",
    "    # Split text by comma and remove leading/trailing whitespace\n",
    "    lst_text = [item.strip().lower() for item in text.split(',')]\n",
    "    if len(lst_text) == lst_text.count('no'):\n",
    "        return ['']\n",
    "    else:\n",
    "        lst_text = [item for item in lst_text if item != 'no']\n",
    "    lst_text = list(dict.fromkeys(lst_text))\n",
    "        \n",
    "    return lst_text"
   ]
  },
  {
   "cell_type": "code",
   "execution_count": 86,
   "id": "d2557dfe-5f07-4f5c-ba06-3460f21890f5",
   "metadata": {
    "tags": []
   },
   "outputs": [
    {
     "name": "stdout",
     "output_type": "stream",
     "text": [
      "['comfortable', 'easy to wear']\n",
      "--------------------------------------------------\n",
      "['love', 'quality']\n",
      "--------------------------------------------------\n",
      "['enjoyable characters', 'strong relationship', 'middle-aged woman', 'living best life']\n",
      "--------------------------------------------------\n",
      "['entertaining', 'cultural insight', 'clear understanding']\n",
      "--------------------------------------------------\n",
      "['']\n",
      "--------------------------------------------------\n",
      "['']\n",
      "--------------------------------------------------\n",
      "['']\n",
      "--------------------------------------------------\n",
      "['serves purpose', 'awkward', 'uncomfortable']\n",
      "--------------------------------------------------\n",
      "['']\n",
      "--------------------------------------------------\n",
      "['']\n",
      "--------------------------------------------------\n"
     ]
    }
   ],
   "source": [
    "clean_pros = []\n",
    "for gen in pros_output_lst:\n",
    "    extr_txt = extract_text(gen)\n",
    "    clean_pros.append(extr_txt)\n",
    "    \n",
    "    print(extract_text(gen))\n",
    "    print('-'*50)"
   ]
  },
  {
   "cell_type": "code",
   "execution_count": 87,
   "id": "089119b3-abbc-4af9-a746-c97eb7b621c3",
   "metadata": {},
   "outputs": [
    {
     "name": "stdout",
     "output_type": "stream",
     "text": [
      "['']\n",
      "--------------------------------------------------\n",
      "['']\n",
      "--------------------------------------------------\n",
      "['']\n",
      "--------------------------------------------------\n",
      "['']\n",
      "--------------------------------------------------\n",
      "['weak', 'odd smell']\n",
      "--------------------------------------------------\n",
      "['fingers broke', 'unit trashed']\n",
      "--------------------------------------------------\n",
      "['short', 'not wide enough']\n",
      "--------------------------------------------------\n",
      "['awkward', 'uncomfortable']\n",
      "--------------------------------------------------\n",
      "['paywall', 'no construction cons mentioned in the review']\n",
      "--------------------------------------------------\n",
      "['low durability']\n",
      "--------------------------------------------------\n"
     ]
    }
   ],
   "source": [
    "clean_cons = []\n",
    "\n",
    "for gen in cons_output_lst:\n",
    "    extr_txt = extract_text(gen)\n",
    "    clean_cons.append(extr_txt)\n",
    "    \n",
    "    print(extract_text(gen))\n",
    "    print('-'*50)"
   ]
  },
  {
   "cell_type": "markdown",
   "id": "2b888ee3-a516-4c85-b15a-dbc9bc091b24",
   "metadata": {},
   "source": [
    "### Merge Result and Return Pros&Cons"
   ]
  },
  {
   "cell_type": "code",
   "execution_count": 88,
   "id": "57a8c459-22d3-4f3f-ab98-193644ee0607",
   "metadata": {
    "tags": []
   },
   "outputs": [
    {
     "name": "stdout",
     "output_type": "stream",
     "text": [
      "comfortable, easy to wear, \n",
      "--------------------------------------------------\n",
      "love, quality, \n",
      "--------------------------------------------------\n",
      "enjoyable characters, strong relationship, middle-aged woman, living best life, \n",
      "--------------------------------------------------\n",
      "entertaining, cultural insight, clear understanding, \n",
      "--------------------------------------------------\n",
      ", weak, odd smell\n",
      "--------------------------------------------------\n",
      ", fingers broke, unit trashed\n",
      "--------------------------------------------------\n",
      ", short, not wide enough\n",
      "--------------------------------------------------\n",
      "serves purpose, awkward, uncomfortable\n",
      "--------------------------------------------------\n",
      ", paywall, no construction cons mentioned in the review\n",
      "--------------------------------------------------\n",
      ", low durability\n",
      "--------------------------------------------------\n"
     ]
    }
   ],
   "source": [
    "proc_cons_lst = []\n",
    "for i in range(len(clean_cons)):\n",
    "    pros = clean_pros[i]\n",
    "    cons = clean_cons[i]\n",
    "    \n",
    "    proc_cons = pros + cons\n",
    "    proc_cons = list(dict.fromkeys(proc_cons))\n",
    "    proc_cons_lst.append(\", \".join(proc_cons))\n",
    "    print(\", \".join(proc_cons))\n",
    "    print('-'*50)\n",
    "    \n",
    "    "
   ]
  },
  {
   "cell_type": "code",
   "execution_count": 89,
   "id": "ee4c1dd3-2667-4cca-9723-d22f83c91138",
   "metadata": {
    "tags": []
   },
   "outputs": [],
   "source": [
    "cons_template_prompt = \"\"\"1. You will be given the words, please divide them into pros and cons. \n",
    "2. Don't add unnecessary words.\n",
    "3. If there are no pros, then write in Answer \"Pros: No\".\n",
    "3. If there are no cons, then write in Answer \"Cons: No\".\n",
    "\n",
    "Example 1:\n",
    "Words: 'good sound quality, affordable, includes pouch and cable, terrible quality'\n",
    "Answer: 'Pros: good sound quality, affordable, includes pouch and cable', 'Cons: terrible quality'\n",
    "\n",
    "Example 2:\n",
    "Words: 'powerful, heavy, longer cord, suction, crevasse tool, , shorter cloth bag, harder to clean'\n",
    "Answer: 'Pros: powerful, longer cord, includes suction and crevasse tool', 'Cons: heavy, shorter cloth bag, harder to clean'\n",
    "\n",
    "Example 3:\n",
    "Words: 'comfortable, attractive, offers support, variety'\n",
    "Answer: 'Pros: comfortable, attractive, offers support, variety', 'Cons: No'\n",
    "\n",
    "Example 4:\n",
    "Words: 'defective product, unsatisfied customer, broken legs, manufacturer defect'\n",
    "Answer: 'Pros: defective product, unsatisfied customer, broken legs, manufacturer defect', 'Cons: defective product'\n",
    "\n",
    "\n",
    "Words: '{pros_cons}'\n",
    "Answer:\"\"\""
   ]
  },
  {
   "cell_type": "code",
   "execution_count": 90,
   "id": "ce457ce4-928e-4014-b1c7-8be95dd17659",
   "metadata": {
    "tags": []
   },
   "outputs": [
    {
     "data": {
      "text/plain": [
       "['comfortable, easy to wear, ',\n",
       " 'love, quality, ',\n",
       " 'enjoyable characters, strong relationship, middle-aged woman, living best life, ',\n",
       " 'entertaining, cultural insight, clear understanding, ',\n",
       " ', weak, odd smell',\n",
       " ', fingers broke, unit trashed',\n",
       " ', short, not wide enough',\n",
       " 'serves purpose, awkward, uncomfortable',\n",
       " ', paywall, no construction cons mentioned in the review',\n",
       " ', low durability']"
      ]
     },
     "execution_count": 90,
     "metadata": {},
     "output_type": "execute_result"
    }
   ],
   "source": [
    "proc_cons_lst"
   ]
  },
  {
   "cell_type": "code",
   "execution_count": 91,
   "id": "42936fb9-7b72-4819-a814-4d8b5c147271",
   "metadata": {
    "tags": []
   },
   "outputs": [],
   "source": [
    "temperature, max_new_tokens = 0.2, 50"
   ]
  },
  {
   "cell_type": "code",
   "execution_count": 92,
   "id": "34c0c88e-7d9a-4857-b531-de38e09f1656",
   "metadata": {
    "tags": []
   },
   "outputs": [],
   "source": [
    "def parse_reviews(input_str):\n",
    "    review_dict = {\"pros\": [], \"cons\": []}\n",
    "    input_str = input_str.replace('\\n', ',', 1)\n",
    "    input_str = input_str.replace('\\n', '', )\n",
    "    input_str = input_str.replace(\"'\", '', )\n",
    "    input_str = input_str.lower()\n",
    "    group_pros = re.findall(r'pros: (.*)[ ,]?cons', input_str)\n",
    "    text = input_str\n",
    "    pros = []\n",
    "    cons = []\n",
    "\n",
    "    if text.find(\"pros:\") < text.find(\"cons:\"):\n",
    "        pros_section, cons_section = text.split(\"cons:\")\n",
    "    else:\n",
    "        cons_section, pros_section = text.split(\"pros:\")\n",
    "    pros = [item.strip() for item in pros_section.split(\",\")]\n",
    "    cons = [item.strip() for item in cons_section.split(\",\")]\n",
    "    cons = [item.lower().capitalize() for item in cons]\n",
    "    \n",
    "    dict_cp = {\"pros\": pros, \"cons\": cons}\n",
    "    cleand_pros = []\n",
    "    cleand_cons = []\n",
    "    \n",
    "    for i in range(len(pros)):\n",
    "        pros[i] = pros[i].lower()\n",
    "        pros[i] = pros[i].replace('pros:', '')\n",
    "        pros[i] = pros[i].replace('words:', '')\n",
    "        pros[i] = pros[i].replace('.', '')\n",
    "        pros[i] = pros[i].strip()\n",
    "        if pros[i] != '':\n",
    "            cleand_pros.append(pros[i])\n",
    "            \n",
    "    for i in range(len(cons)):\n",
    "        cons[i] = cons[i].lower()\n",
    "        cons[i] = cons[i].replace('cons:', '')\n",
    "        cons[i] = cons[i].replace('words:', '')\n",
    "        cons[i] = cons[i].replace('.', '')\n",
    "        cons[i] = cons[i].strip()\n",
    "        if cons[i] != '':\n",
    "            cleand_cons.append(cons[i])\n",
    "            \n",
    "    if len(cleand_pros) == 0:\n",
    "        cleand_pros.append('no')\n",
    "        \n",
    "    if len(cleand_cons) == 0:\n",
    "        cleand_cons.append('no')\n",
    "        \n",
    "    return {\"pros\": cleand_pros, \"cons\": cleand_cons}"
   ]
  },
  {
   "cell_type": "code",
   "execution_count": 75,
   "id": "76502c68-8c04-4f9a-ba1f-490c7d0a0f10",
   "metadata": {
    "tags": []
   },
   "outputs": [
    {
     "name": "stdout",
     "output_type": "stream",
     "text": [
      "{'pros': ['comfortable', 'convenient'], 'cons': ['no']}\n",
      "--------------------------------------------------\n",
      "{'pros': ['love', 'quality'], 'cons': ['no']}\n",
      "--------------------------------------------------\n",
      "{'pros': ['enjoyable characters', 'finding truth', 'best life'], 'cons': ['middle-aged woman', 'no (assuming theres no inherent con to being a middle-aged woman)']}\n",
      "--------------------------------------------------\n",
      "{'pros': ['entertaining', 'provides cultural insight', 'clear understanding'], 'cons': ['no']}\n",
      "--------------------------------------------------\n",
      "{'pros': ['not strong'], 'cons': ['odd smell']}\n",
      "--------------------------------------------------\n",
      "{'pros': ['no'], 'cons': ['fingers broke', 'unit trashed']}\n",
      "--------------------------------------------------\n",
      "{'pros': ['no'], 'cons': ['short', 'not long enough']}\n",
      "--------------------------------------------------\n",
      "{'pros': ['no'], 'cons': ['awkward', 'uncomfortable']}\n",
      "--------------------------------------------------\n",
      "{'pros': ['no'], 'cons': ['no free content', 'requires paid access']}\n",
      "--------------------------------------------------\n",
      "{'pros': ['easy to use', 'lightweight', 'portable', 'affordable'], 'cons': ['low durability', 'easy to use', 'lightweight', 'portable', 'affordableanswer:']}\n",
      "--------------------------------------------------\n"
     ]
    }
   ],
   "source": [
    "for proc_cons_output in proc_cons_output_lst:\n",
    "    print(parse_reviews(proc_cons_output))\n",
    "    print('-'*50)"
   ]
  },
  {
   "cell_type": "code",
   "execution_count": 96,
   "id": "08ff44c2-bd9f-4396-be41-6d5068a61939",
   "metadata": {
    "tags": []
   },
   "outputs": [
    {
     "name": "stdout",
     "output_type": "stream",
     "text": [
      "\n",
      "gen_output - 'Pros: comfortable, easy to wear', 'Cons: No'\n",
      "review - Great fit. Easy to put on.\n",
      "--------------------------------------------------\n",
      "\n",
      "gen_output - Pros: love, quality\n",
      "Cons: No.\n",
      "review - Love this quality product in gray.\n",
      "--------------------------------------------------\n",
      "\n",
      "gen_output - 'Pros: enjoyable characters, strong relationship, middle-aged woman living best life', 'Cons: No'\n",
      "review - I love the characters and town the authors have created. My favorite thing is the relationship between Cee-cee and her sisters. Great to read about a middle aged woman finding her truth and living her best life!\n",
      "--------------------------------------------------\n",
      "\n",
      "gen_output - 'Pros: entertaining, provides cultural insight, clear understanding', 'Cons: No'\n",
      "review - Was a good read. Gives an American a glimpse of British life. Had lots of terms and phrases that we don't use, but could easily figure out. The dry sense of humor was very appealing to me.\n",
      "--------------------------------------------------\n",
      "\n",
      "gen_output - 'Cons: weak, odd smell', 'Pros: No'\n",
      "review - These SMELL. It's a very odd smell. I've no idea why they smell so bad/weird, but I'm hoping it goes away, as I threw the box away due to the fact that we we're moving and I just threw all the cardboard away at once. Also they're not very strong. Dont store anything heavy in them, but they're ok for lighter items.\n",
      "--------------------------------------------------\n",
      "\n",
      "gen_output - 'Cons: fingers broke, unit trashed', 'Pros: No'\n",
      "review - The unit seemed to help. After several weeks, fingers started to break. Trashed the entire unit.\n",
      "--------------------------------------------------\n",
      "\n",
      "gen_output - Cons: short, not wide enough,\n",
      "Pros: No.\n",
      "review - I ordered the California King & it didn’t cover either side of the bed yet drug on the floor on the end of the bed. VERY, VERY disappointing.\n",
      "--------------------------------------------------\n",
      "\n",
      "gen_output - 'Pros: serves purpose', 'Cons: awkward, uncomfortable'\n",
      "review - Serves purpose but awkward and uncomfortable after a few mins.\n",
      "--------------------------------------------------\n",
      "\n",
      "gen_output - 'Cons: paywall', 'Pros: No'\n",
      "review - This app asks you to pay otherwise it loads the same shows that one can see on Nick JR.\n",
      "--------------------------------------------------\n",
      "\n",
      "gen_output - 'Pros: No', 'Cons: low durability'\n",
      "review - Didn't last but a half a day\n",
      "--------------------------------------------------\n"
     ]
    }
   ],
   "source": [
    "proc_cons_output_lst = []\n",
    "proc_cons_output = []\n",
    "for i in range(len(proc_cons_lst)):\n",
    "    proc_cons = proc_cons_lst[i]\n",
    "    review = reviews[i]\n",
    "    proc_cons_prompt = cons_template_prompt.format(pros_cons=proc_cons)    \n",
    "    gen_output = get_generation_model(model, prompt=proc_cons_prompt, temperature=temperature, max_new_tokens=max_new_tokens)\n",
    "    print()\n",
    "    print(f\"gen_output - {gen_output}\")\n",
    "    print(f\"review - {review}\")\n",
    "    print('-'*50)\n",
    "    parse_review = parse_reviews(gen_output)\n",
    "    parse_review['review'] = review\n",
    "    proc_cons_output.append(parse_review)\n",
    "    proc_cons_output_lst.append(gen_output)\n",
    "    "
   ]
  },
  {
   "cell_type": "code",
   "execution_count": 97,
   "id": "7991ed03-574d-4695-907b-3353dfd97242",
   "metadata": {
    "tags": []
   },
   "outputs": [
    {
     "data": {
      "text/plain": [
       "[{'pros': ['comfortable', 'easy to wear'],\n",
       "  'cons': ['no'],\n",
       "  'review': 'Great fit. Easy to put on.'},\n",
       " {'pros': ['love', 'quality'],\n",
       "  'cons': ['no'],\n",
       "  'review': 'Love this quality product in gray.'},\n",
       " {'pros': ['enjoyable characters',\n",
       "   'strong relationship',\n",
       "   'middle-aged woman living best life'],\n",
       "  'cons': ['no'],\n",
       "  'review': 'I love the characters and town the authors have created. My favorite thing is the relationship between Cee-cee and her sisters. Great to read about a middle aged woman finding her truth and living her best life!'},\n",
       " {'pros': ['entertaining', 'provides cultural insight', 'clear understanding'],\n",
       "  'cons': ['no'],\n",
       "  'review': \"Was a good read. Gives an American a glimpse of British life. Had lots of terms and phrases that we don't use, but could easily figure out. The dry sense of humor was very appealing to me.\"},\n",
       " {'pros': ['no'],\n",
       "  'cons': ['weak', 'odd smell'],\n",
       "  'review': \"These SMELL. It's a very odd smell. I've no idea why they smell so bad/weird, but I'm hoping it goes away, as I threw the box away due to the fact that we we're moving and I just threw all the cardboard away at once. Also they're not very strong. Dont store anything heavy in them, but they're ok for lighter items.\"},\n",
       " {'pros': ['no'],\n",
       "  'cons': ['fingers broke', 'unit trashed'],\n",
       "  'review': 'The unit seemed to help. After several weeks, fingers started to break. Trashed the entire unit.'},\n",
       " {'pros': ['no'],\n",
       "  'cons': ['short', 'not wide enough'],\n",
       "  'review': 'I ordered the California King & it didn’t cover either side of the bed yet drug on the floor on the end of the bed. VERY, VERY disappointing.'},\n",
       " {'pros': ['serves purpose'],\n",
       "  'cons': ['awkward', 'uncomfortable'],\n",
       "  'review': 'Serves purpose but awkward and uncomfortable after a few mins.'},\n",
       " {'pros': ['no'],\n",
       "  'cons': ['paywall'],\n",
       "  'review': 'This app asks you to pay otherwise it loads the same shows that one can see on Nick JR.'},\n",
       " {'pros': ['no'],\n",
       "  'cons': ['low durability'],\n",
       "  'review': \"Didn't last but a half a day\"}]"
      ]
     },
     "execution_count": 97,
     "metadata": {},
     "output_type": "execute_result"
    }
   ],
   "source": [
    "proc_cons_output"
   ]
  },
  {
   "cell_type": "markdown",
   "id": "e9acee9d-f368-461e-b904-e7a208a8d12b",
   "metadata": {},
   "source": [
    "**Примеры оценки**:\n",
    "\n",
    "1. `review` - \"Didn't last but a half a day\"\n",
    "2. `pros`: 'no',\n",
    "3. `cons`: 'low durability'\n",
    "\n",
    "**Итог:** В фразе сказано, что *'Продержалось не более полдня'*, результат выдал в недостатках *'низкая долговечность'* - **модель поняла минус, который явно не изображен в комментарии**"
   ]
  },
  {
   "cell_type": "markdown",
   "id": "64a5c01b-5ca5-4cf1-88c4-82aea5d7cea5",
   "metadata": {},
   "source": [
    "1. `review` - \"Serves purpose but awkward and uncomfortable after a few mins.\"\n",
    "2. `pros`: 'serves purpose',\n",
    "3. `cons`: 'awkward, uncomfortable'\n",
    "\n",
    "**Итог:** В фразе сказано, что *'Служит цели, но через несколько минут становится неловко и неудобно'*, результат выдал в недостатках *'неудобно и некомфортно'*, но в плюсах выдал  *'выполняет свою задачу'*  - **модель понимает не явные плюсы и минусы в комментарии**"
   ]
  },
  {
   "cell_type": "markdown",
   "id": "e16d4a0e-4b03-46e9-a585-a1cf26956f32",
   "metadata": {
    "tags": []
   },
   "source": [
    "# Examples"
   ]
  },
  {
   "cell_type": "markdown",
   "id": "78171f65-763c-4290-82c2-b56358b9cfc6",
   "metadata": {},
   "source": [
    "В качестве метрики я выбрал G-Eval на моделе `mistralai/Mistral-7B-Instruct-v0.2`"
   ]
  },
  {
   "cell_type": "code",
   "execution_count": 21,
   "id": "2e5077ec-53b1-4292-82ba-1a813d9617fc",
   "metadata": {
    "tags": []
   },
   "outputs": [],
   "source": [
    "from datasets import load_dataset\n",
    "import numpy as np\n",
    "from transformers import AutoModelForCausalLM, AutoTokenizer, GenerationConfig\n",
    "import re\n",
    "import torch\n",
    "import pandas as pd\n",
    "\n",
    "import torch\n",
    "from transformers import AutoModelForCausalLM, AutoTokenizer, GenerationConfig\n",
    "\n",
    "GEVAL_TEMPLATE_PROMPT = \"\"\"\n",
    "You will be given a review and its pros and cons, which are generated by the model.\n",
    "Your task is to evaluate how the model generated the pros and cons according to the review.\n",
    "Please make sure that you have read and understood this review carefully.\n",
    "Please keep this document in mind during the assessment and refer to it if necessary. \n",
    "If there is the word 'No' in the pros or cons, it means that the model has not found the pros or cons.\n",
    "It is very important, there may be a completely different wording in the review than in the pros and cons, do not pay attention to it\n",
    "Don't be too strict, but give me a fair assessment.\n",
    "The score can be from 1 to 5.\n",
    "Score is the quality of how well the generated pros and cons reflect the content and key points of the review provided.\n",
    "Score 1 - The generated pros and cons are unrelated to the content of the review or poorly reflect its key points.\n",
    "Score 2 - Some of the generated pros and cons reflect elements mentioned in the review, but many important points are missed or inaccurately represented.\n",
    "Score 3 - The majority of the generated pros and cons reflect elements mentioned in the review, but there are some inaccuracies or omissions.\n",
    "Score 4 - The generated pros and cons closely reflect the content of the review, capturing most of the important points accurately.\n",
    "Score 5 - The generated pros and cons accurately and comprehensively reflect the content of the review, capturing all important points with precision.\n",
    "\n",
    "Example 1:\n",
    "review: This was a very informative book. Not a novel but still very engaging. did not know their influence in many areas of things we take for granted.\n",
    "pros: Informative, Engaging, Eye-opening\n",
    "cons: No\n",
    "Score: 5\n",
    "\n",
    "Example 2:\n",
    "review = Not nice quality but cute print.\n",
    "pros = Cute print\n",
    "cons = Bad quality\n",
    "Score: 5\n",
    "\n",
    "Example 3:\n",
    "Review: This smartphone offers excellent performance and a sleek design. The display is vibrant and sharp, making it perfect for multimedia consumption. The battery life is decent, lasting through a full day of moderate usage. However, the camera quality could be improved, especially in low-light conditions. Overall, it's a solid choice for those seeking a reliable and stylish device.\n",
    "Pros: Excellent performance, Sleek design, Vibrant display, Decent battery life\n",
    "Cons: Camera quality in low-light conditions could be improved\n",
    "Score: 4\n",
    "\n",
    "Example 4:\n",
    "review: I bought this as a gift and on sale - they loved how this comes with a tote. The tools feel well made and it has a great variety of items.\n",
    "pros = Sale, Tote, Well made, Variety\n",
    "cons = Not durable, Limited functionality, Poor quality\n",
    "Score: 3\n",
    "\n",
    "Example 5:\n",
    "Review: This toaster fails to toast bread properly. The control buttons are too complicated to use, and the instructions don't help to figure it out. There are frequent malfunctions, leading to improper toasting or breakdowns. Additionally, the design is too bulky and takes up a lot of space on the kitchen countertop.\n",
    "Pros: Sleek design, Easy to use controls, Reliable performance\n",
    "Cons: Comfortable, Cute\n",
    "Score: 1\n",
    "\n",
    "In the answer, write only the number, only 1, 2, 3, 4 or 5 without explanations and unnecessary words.\n",
    "\n",
    "Steps in evaluating the content of a model generation:\n",
    "1. Read the review carefully to identify its key points and understand the reviewer's opinion.\n",
    "2. Evaluate the pros and cons generated by the model to determine how well they reflect the content and key points of the review.\n",
    "3. Compare the pros and cons to the review, focusing on the accuracy, comprehensiveness, and relevance of each point.\n",
    "4. Assign a score based on the quality of the generated pros and cons, using the given scale (1-5) to indicate how closely they reflect the review.\n",
    "\n",
    "\n",
    "Review: {review}\n",
    "Pros: {pros}\n",
    "Cons: {cons}\n",
    "Score (write only 1, 2, 3, 4, or 5):\n",
    "\"\"\"\n",
    "\n",
    "class GEval:\n",
    "    \"\"\"\n",
    "    Класс GEval предназначен для оценки сгенерированного текста с использованием предобученной языковой модели.\n",
    "    \n",
    "    Атрибуты:\n",
    "        model (AutoModelForCausalLM): Экземпляр предобученной языковой модели для генерации текста.\n",
    "        tokenizer (AutoTokenizer): Токенизатор, соответствующий модели, для преобразования текста в токены и обратно.\n",
    "        score_tokens (list[int]): Список идентификаторов токенов, используемых для оценки сгенерированного текста.\n",
    "        weight_tokens (torch.tensor): Веса, соответствующие токенам оценок, для вычисления итогового балла.\n",
    "        \n",
    "    Методы:\n",
    "        init(self, model_name: str):\n",
    "            Инициализирует экземпляр класса, загружая модель и токенизатор по указанному имени модели.\n",
    "            \n",
    "        find_tokens(self, generated_tokens: list, score_tokens: list) -> list:\n",
    "            Возвращает индексы токенов из списка generated_tokens, которые присутствуют в списке score_tokens.\n",
    "            \n",
    "        predict(self, review: str) -> float:\n",
    "            Генерирует продолжение текста на основе входного примера review и вычисляет итоговый балл сгенерированного текста.\n",
    "    \n",
    "    Пример использования:\n",
    "        # Инициализация оценщика с предобученной моделью\n",
    "        g_eval = GEval('gpt2')\n",
    "        \n",
    "        # Оценка сгенерированного текста\n",
    "        score = g_eval.predict(\"Пример текста для генерации.\")\n",
    "        \n",
    "        print(f\"Итоговый балл: {score}\")\n",
    "    \"\"\"\n",
    "\n",
    "    def __init__(self, model_name: str):\n",
    "        \"\"\"\n",
    "        Инициализирует экземпляр класса GEval.\n",
    "        \n",
    "        Аргументы:\n",
    "            model_name (str): Имя предобученной модели, которая будет использоваться для генерации текста.\n",
    "        \"\"\"\n",
    "\n",
    "        self.model = AutoModelForCausalLM.from_pretrained(model_name, torch_dtype=torch.float16, device_map=\"auto\")\n",
    "        self.tokenizer = AutoTokenizer.from_pretrained(model_name)\n",
    "        self.score_tokens = self.tokenizer.convert_tokens_to_ids(['1', '2', '3', '4', '5'])\n",
    "        self.weight_tokens = torch.tensor([1., 2., 3., 4., 5.])\n",
    "        \n",
    "    def find_tokens(self, generated_tokens: list, score_tokens: list):\n",
    "        \"\"\"\n",
    "        Находит индексы токенов из списка score_tokens в списке generated_tokens.\n",
    "        \n",
    "        Аргументы:\n",
    "            generated_tokens (list): Список идентификаторов сгенерированных токенов.\n",
    "            score_tokens (list): Список идентификаторов токенов оценок.\n",
    "        \n",
    "        Возвращает:\n",
    "            list: Список индексов токенов оценок в сгенерированном тексте.\n",
    "        \"\"\"\n",
    "\n",
    "        indexies = []\n",
    "        for i in range(len(generated_tokens)):\n",
    "            id_token = generated_tokens[i]\n",
    "            for id_score_token in score_tokens:\n",
    "                if id_token == id_score_token:\n",
    "                    indexies.append(i)\n",
    "        return indexies\n",
    "        \n",
    "    def predict(self, review: str, pros: str, cons: str) -> float:\n",
    "        \"\"\"\n",
    "        Генерирует продолжение текста на основе входного примера и вычисляет итоговый балл сгенерированного текста.\n",
    "        \n",
    "        Аргументы:\n",
    "            review (str): Текст, на основе которого будет сгенерировано продолжение.\n",
    "        \n",
    "        Возвращает:\n",
    "            float: Итоговый балл сгенерированного текста.\n",
    "        \"\"\"\n",
    "\n",
    "        prompt = GEVAL_TEMPLATE_PROMPT.format(review=review, pros=pros, cons=cons)\n",
    "        \n",
    "        messages = [\n",
    "            {\"role\": \"user\", \"content\": prompt}\n",
    "        ]\n",
    "        \n",
    "        encodeds = self.tokenizer.apply_chat_template(messages, return_tensors=\"pt\")\n",
    "        model_inputs = encodeds.to(self.model.device)\n",
    "        \n",
    "        generation = self.model.generate(model_inputs, \n",
    "                               max_new_tokens=25, \n",
    "                               pad_token_id=self.tokenizer.eos_token_id,\n",
    "                               output_scores=True,\n",
    "                               return_dict_in_generate=True,\n",
    "                               do_sample=False)\n",
    "        \n",
    "        generated_ids = generation['sequences']\n",
    "        all_logits = generation['scores']\n",
    "        generated_tokens = generated_ids[:, len(model_inputs[0]):][0].tolist()\n",
    "        decoded = self.tokenizer.batch_decode(generated_ids)\n",
    "        ids = self.find_tokens(generated_tokens, self.score_tokens)\n",
    "        try:\n",
    "            logits_token = all_logits[ids[0] - 1][0]\n",
    "        except:\n",
    "            logits_token = all_logits[-1]\n",
    "            \n",
    "        log_probs = torch.nn.functional.softmax(logits_token[self.score_tokens], dim=0).detach().cpu()\n",
    "        score = torch.dot(log_probs, self.weight_tokens).item()\n",
    "        return score\n",
    "    \n",
    "    def get_generation(self, review: str, pros: str, cons: str):\n",
    "        prompt = GEVAL_TEMPLATE_PROMPT.format(review=review, pros=pros, cons=cons)\n",
    "        \n",
    "        messages = [\n",
    "            {\"role\": \"user\", \"content\": prompt}\n",
    "        ]\n",
    "        \n",
    "        encodeds = self.tokenizer.apply_chat_template(messages, return_tensors=\"pt\")\n",
    "        model_inputs = encodeds.to(self.model.device)\n",
    "        \n",
    "        generation = self.model.generate(model_inputs, \n",
    "                               max_new_tokens=25, \n",
    "                               pad_token_id=self.tokenizer.eos_token_id,\n",
    "                               output_scores=True,\n",
    "                               return_dict_in_generate=True,\n",
    "                               do_sample=False)\n",
    "        all_logits = generation['scores']\n",
    "        generated_ids = generation['sequences']\n",
    "        generated_tokens = generated_ids[:, len(model_inputs[0]):][0].tolist()\n",
    "        decoded = self.tokenizer.batch_decode(generated_tokens)\n",
    "        return decoded\n",
    "\n",
    "PROS_TEMPLATE_PROMPT = \"\"\"You have been provided with a user review of the product. Please write down the benefits that you found in the review.\n",
    "The answer should contain no more than 2-3 words of merit.\n",
    "If you have not found any advantages, then do not try to come up with them, just return only the word \"No\".\n",
    "Write the pros separated by commas: \"word_1, word_2, word_3...\"\n",
    "\n",
    "Example 1:\n",
    "Review: \"Excellent value for money, well-made product, perfect for our coffee pot, for a small fraction of the cost of the same product in stores.\"\n",
    "You answer (word_1, word_2, word_3...): \"Good quality, competitive price\"\n",
    "\n",
    "Example 2:\n",
    "\"There is a terrible one band across the top. Supposed to keep the shirt on your shoulders but seems more of like a waistband.\"\n",
    "You answer (word_1, word_2, word_3... or No): \"No\"\n",
    "\n",
    "Your assessment steps:\n",
    "1. Read the user review thoroughly.\n",
    "2. Identify the key words or phrases that suggest benefits.\n",
    "3. Extract those benefits and write them as single words.\n",
    "4. Separate the benefits with commas: \"word_1, word_2, word_3...\"\n",
    "\n",
    "\n",
    "Review:{review}\n",
    "\n",
    "You answer (word_1, word_2, word_3...or No):\"\"\"\n",
    "\n",
    "CONS_TEMPLATE_PROMPT = \"\"\"You have been provided with a user review of the product. Please describe the cons that you found in the review.\n",
    "The answer should contain no more than 2-3 words that describe the construction.\n",
    "If you have not found any cons, then do not try to come up with them, just return only the word \"No\"\n",
    "Write the pros separated by commas: \"word_1, word_2, word_3...\"\n",
    "Look at an example to better understand your task.\n",
    "\n",
    "Example 1:\n",
    "\"There is a terrible one band across the top. Supposed to keep the shirt on your shoulders but seems more of like a waistband.\"\n",
    "You answer (word_1, word_2, word_3... or No): \"Terrible streak, not the right size\"\n",
    "\n",
    "Example 2:\n",
    "Review: \"Excellent value for money, well-made product, perfect for our coffee pot, for a small fraction of the cost of the same product in stores.\"\n",
    "You answer (word_1, word_2, word_3...): \"No\"\n",
    "\n",
    "Your assessment steps:\n",
    "1. Read the user review carefully.\n",
    "2. Identify any cons related to construction mentioned.\n",
    "3. If no cons are mentioned, return \"No\".\n",
    "4. If cons are mentioned, write down the keywords that describe them.\n",
    "5. Return the answer with the cons keywords.\n",
    "\n",
    "\n",
    "Review:{review}\n",
    "\n",
    "You answer (word_1, word_2, word_3...or No):\"\"\"\n",
    "\n",
    "SORT_TEMPLATE_PROMPT = \"\"\"1. You will be given the words, please divide them into pros and cons. \n",
    "2. Don't add unnecessary words.\n",
    "3. If there are no pros, then write in Answer \"Pros: No\".\n",
    "3. If there are no cons, then write in Answer \"Cons: No\".\n",
    "\n",
    "Example 1:\n",
    "Words: 'good sound quality, affordable, includes pouch and cable, terrible quality'\n",
    "Answer: 'Pros: good sound quality, affordable, includes pouch and cable', 'Cons: terrible quality'\n",
    "\n",
    "Example 2:\n",
    "Words: 'powerful, heavy, longer cord, suction, crevasse tool, , shorter cloth bag, harder to clean'\n",
    "Answer: 'Pros: powerful, longer cord, includes suction and crevasse tool', 'Cons: heavy, shorter cloth bag, harder to clean'\n",
    "\n",
    "Example 3:\n",
    "Words: 'comfortable, attractive, offers support, variety'\n",
    "Answer: 'Pros: comfortable, attractive, offers support, variety', 'Cons: No'\n",
    "\n",
    "Example 4:\n",
    "Words: 'defective product, unsatisfied customer, broken legs, manufacturer defect'\n",
    "Answer: 'Pros: defective product, unsatisfied customer, broken legs, manufacturer defect', 'Cons: defective product'\n",
    "\n",
    "\n",
    "Words: '{pros_cons}'\n",
    "Answer:\"\"\"\n",
    "\n",
    "\n",
    "class CPModel:\n",
    "    \"\"\"\n",
    "    Класс для суммаризации отзывов на товары с целью извлечения плюсов и минусов.\n",
    "    \n",
    "    Параметры:\n",
    "    - model_name: str - имя или путь к предварительно обученной модели трансформера.\n",
    "    \n",
    "    Атрибуты:\n",
    "    - cp_temperature: float - температура для генерации плюсов и минусов.\n",
    "    - sort_temperature: float - температура для сортировки плюсов и минусов.\n",
    "    - cp_max_new_tokens: int - максимальное количество новых токенов для генерации плюсов и минусов.\n",
    "    - sort_max_new_tokens: int - максимальное количество новых токенов для сортировки плюсов и минусов.\n",
    "    - tokenizer: AutoTokenizer - токенизатор из библиотеки transformers.\n",
    "    - model: AutoModelForCausalLM - модель для каузального языкового моделирования из библиотеки transformers.\n",
    "    \"\"\"\n",
    "\n",
    "    def __init__(self, model_name: str):\n",
    "        \"\"\"\n",
    "        Инициализирует модель с заданными параметрами.\n",
    "        \"\"\"\n",
    "\n",
    "        self.cp_temperature = 0.7\n",
    "        self.sort_temperature = 0.2\n",
    "\n",
    "        self.cp_max_new_tokens = 20\n",
    "        self.sort_max_new_tokens = 50\n",
    "        \n",
    "        self.tokenizer = AutoTokenizer.from_pretrained(model_name)\n",
    "        self.model = AutoModelForCausalLM.from_pretrained(model_name, device_map=\"auto\", torch_dtype = torch.float16)\n",
    "    \n",
    "    def get_generation_model(self, prompt: str, temperature: float, max_new_tokens: int) -> str:\n",
    "        \"\"\"\n",
    "        Генерирует текст на основе заданного запроса.\n",
    "        \n",
    "        Параметры:\n",
    "        - prompt: str - текст запроса для генерации.\n",
    "        - temperature: float - температура для генерации текста.\n",
    "        - max_new_tokens: int - максимальное количество новых токенов для генерации.\n",
    "        \n",
    "        Возвращает:\n",
    "        - Строка сгенерированного текста.\n",
    "        \"\"\"\n",
    "\n",
    "        messages = [\n",
    "            {\"role\": \"user\", \"content\": prompt},\n",
    "        ]\n",
    "        inputs = self.tokenizer.apply_chat_template(messages, return_tensors=\"pt\").to(\"cuda\")\n",
    "        outputs = self.model.generate(inputs, pad_token_id=2 ,temperature=temperature, max_new_tokens=max_new_tokens, do_sample=True)\n",
    "        gen_output = self.tokenizer.decode(outputs[0, len(inputs[0]):], skip_special_tokens=True)\n",
    "        return gen_output\n",
    "    \n",
    "    def get_generation_cons(self, review: str) -> list[str]:\n",
    "        \"\"\"\n",
    "        Генерирует список минусов из отзыва.\n",
    "        \n",
    "        Параметры:\n",
    "        - review: str - текст отзыва.\n",
    "        \n",
    "        Возвращает:\n",
    "        - Список строк с минусами.\n",
    "        \"\"\"\n",
    "\n",
    "        prompt = CONS_TEMPLATE_PROMPT.format(review=review)\n",
    "        gen_output = self.get_generation_model(prompt, temperature=self.cp_temperature, max_new_tokens=self.cp_max_new_tokens)\n",
    "        extract_get = self.extract_text(gen_output)\n",
    "        return extract_get\n",
    "\n",
    "    def get_generation_pros(self, review: str) -> list[str]:\n",
    "        \"\"\"\n",
    "        Генерирует список плюсов из отзыва.\n",
    "        \n",
    "        Параметры:\n",
    "        - review: str - текст отзыва.\n",
    "        \n",
    "        Возвращает:\n",
    "        - Список строк с плюсами.\n",
    "        \"\"\"\n",
    "\n",
    "        prompt = PROS_TEMPLATE_PROMPT.format(review=review)\n",
    "        gen_output = self.get_generation_model(prompt, temperature=self.cp_temperature, max_new_tokens=self.cp_max_new_tokens)\n",
    "        extract_get = self.extract_text(gen_output)\n",
    "        return extract_get\n",
    "    \n",
    "    def get_generation_sort_cp(self, pros: list, cons: list) -> dict:\n",
    "        \"\"\"\n",
    "        Сортирует и объединяет плюсы и минусы в один словарь.\n",
    "        \n",
    "        Параметры:\n",
    "        - pros: list - список плюсов.\n",
    "        - cons: list - список минусов.\n",
    "        \n",
    "        Возвращает:\n",
    "        - Словарь с ключами 'pros' и 'cons', содержащий отсортированные списки плюсов и минусов.\n",
    "        \"\"\"\n",
    "\n",
    "        proc_cons = pros + cons\n",
    "        proc_cons = list(dict.fromkeys(proc_cons))\n",
    "        proc_cons = \", \".join(proc_cons)\n",
    "        \n",
    "        proc_cons_prompt = SORT_TEMPLATE_PROMPT.format(pros_cons=proc_cons)  \n",
    "        gen_output = self.get_generation_model(proc_cons_prompt, temperature=self.sort_temperature, max_new_tokens=self.sort_max_new_tokens)\n",
    "        dict_gen = self.parse_reviews(gen_output)\n",
    "        return dict_gen\n",
    "        \n",
    "    def predict(self, reviews: list[str]) -> list[dict[str]]:\n",
    "        \"\"\"\n",
    "        Производит предсказание плюсов и минусов для списка отзывов.\n",
    "        \n",
    "        Параметры:\n",
    "        - reviews: list[str] - список текстов отзывов.\n",
    "        \n",
    "        Возвращает:\n",
    "        - Список словарей с ключами 'pros', 'cons' и 'review', содержащих информацию о плюсах, минусах и самом отзыве.\n",
    "        \"\"\"\n",
    "\n",
    "        gen_lst = []\n",
    "        for review in reviews:\n",
    "            cons = self.get_generation_cons(review)\n",
    "            pros = self.get_generation_pros(review)\n",
    "            dict_gen = self.get_generation_sort_cp(pros=pros, cons=cons)\n",
    "            dict_gen['review'] = review\n",
    "            gen_lst.append(dict_gen)\n",
    "        return gen_lst\n",
    "    \n",
    "    def extract_text(self, text: str) -> list[str]:\n",
    "        \"\"\"\n",
    "        Очищает и обрабатывает текст для дальнейшего использования.\n",
    "        \n",
    "        Параметры:\n",
    "        - text: str - текст для обработки.\n",
    "        \n",
    "        Возвращает:\n",
    "        - Список строк после очистки и обработки текста.\n",
    "        \"\"\"\n",
    "\n",
    "        text = re.sub(r'\\n.*', '', text)\n",
    "        text = re.sub(r'\\s*\\([^)]*\\)\\s*', '', text)\n",
    "        text = re.sub(r'\\[.*', '', text)\n",
    "        text = text.replace('\"', '')\n",
    "        text = text.replace('You answer', '')\n",
    "        text = text.replace('\\n', '')\n",
    "        text = text.replace('Review', '')\n",
    "        text = text.replace('(', '')\n",
    "        text = text.replace(')', '')\n",
    "        text = text.replace('.', '')\n",
    "        lst_text = [item.strip().lower() for item in text.split(',')]\n",
    "        if len(lst_text) == lst_text.count('no'):\n",
    "            return ['']\n",
    "        else:\n",
    "            lst_text = [item for item in lst_text if item != 'no']\n",
    "        lst_text = list(dict.fromkeys(lst_text))\n",
    "\n",
    "        return lst_text\n",
    "    \n",
    "    def parse_reviews(self, input_str: str) -> dict[str]:\n",
    "        \"\"\"\n",
    "        Разбирает строку на плюсы и минусы и возвращает их в виде словаря.\n",
    "\n",
    "        Параметры:\n",
    "        - input_str: str - строка для разбора.\n",
    "\n",
    "        Возвращает:\n",
    "        - Словарь с ключами 'pros' и 'cons', содержащий списки плюсов и минусов соответственно.\n",
    "        \"\"\"\n",
    "\n",
    "        # Приведение всего текста к нижнему регистру и удаление нежелательных символов\n",
    "        input_str = input_str.lower().replace(\"'\", \"\").replace(\".\", \"\")\n",
    "\n",
    "        # Извлечение разделов \"pros\" и \"cons\"\n",
    "        pros_text = cons_text = ''\n",
    "        if \"pros:\" in input_str and \"cons:\" in input_str:\n",
    "            if input_str.find(\"pros:\") < input_str.find(\"cons:\"):\n",
    "                pros_text, cons_text = re.split(\"cons:\", input_str, 1)\n",
    "            else:\n",
    "                cons_text, pros_text = re.split(\"pros:\", input_str, 1)\n",
    "        pros_text = pros_text.replace(\"pros:\", \"\")\n",
    "        cons_text = cons_text.replace(\"cons:\", \"\")\n",
    "\n",
    "        # Очистка и разделение на элементы\n",
    "        clean_pros = [item.strip().capitalize() for item in pros_text.split(\",\") if item.strip()]\n",
    "        clean_cons = [item.strip().capitalize() for item in cons_text.split(\",\") if item.strip()]\n",
    "\n",
    "        # Обработка случая, когда список пуст\n",
    "        if not clean_pros:\n",
    "            clean_pros.append('No')\n",
    "        if not clean_cons:\n",
    "            clean_cons.append('No')\n",
    "\n",
    "        return {\"pros\": clean_pros, \"cons\": clean_cons}"
   ]
  },
  {
   "cell_type": "code",
   "execution_count": 22,
   "id": "b23c7340-abaa-476a-8ce8-21ee24e9fc0e",
   "metadata": {
    "tags": []
   },
   "outputs": [],
   "source": [
    "reviews = []\n",
    "dataset = load_dataset(\"SetFit/amazon_reviews_multi_en\")\n",
    "\n",
    "df = pd.DataFrame.from_dict(data=dataset['train'])\n",
    "df = df.sample(n=len(df))\n",
    "\n",
    "batch_size_dict = 2\n",
    "dict_label = {}\n",
    "for label in df['label'].unique():\n",
    "    df_label = df[df['label'] == label]\n",
    "    review_lst = list(df_label['text'].iloc[:batch_size_dict])\n",
    "    for review in review_lst:\n",
    "        reviews.append(review)"
   ]
  },
  {
   "cell_type": "code",
   "execution_count": 23,
   "id": "a6f89a5b-5820-4561-b7df-20c52e100d08",
   "metadata": {
    "tags": []
   },
   "outputs": [
    {
     "data": {
      "application/vnd.jupyter.widget-view+json": {
       "model_id": "0fff1f86f3ff4e0089750db3f5ff3117",
       "version_major": 2,
       "version_minor": 0
      },
      "text/plain": [
       "Loading checkpoint shards:   0%|          | 0/3 [00:00<?, ?it/s]"
      ]
     },
     "metadata": {},
     "output_type": "display_data"
    }
   ],
   "source": [
    "model_name = 'mistralai/Mistral-7B-Instruct-v0.2'\n",
    "cpmodel = CPModel(model_name)"
   ]
  },
  {
   "cell_type": "code",
   "execution_count": 24,
   "id": "588b4e32-db76-48f3-bd4c-fd5e53fb2f7d",
   "metadata": {
    "tags": []
   },
   "outputs": [
    {
     "data": {
      "application/vnd.jupyter.widget-view+json": {
       "model_id": "298504486feb4b08a70ee8eed4736971",
       "version_major": 2,
       "version_minor": 0
      },
      "text/plain": [
       "Loading checkpoint shards:   0%|          | 0/3 [00:00<?, ?it/s]"
      ]
     },
     "metadata": {},
     "output_type": "display_data"
    }
   ],
   "source": [
    "geval = GEval(model_name)"
   ]
  },
  {
   "cell_type": "code",
   "execution_count": 25,
   "id": "7aa67314-8a57-42c4-a63e-9ad7af39fda4",
   "metadata": {
    "tags": []
   },
   "outputs": [],
   "source": [
    "predicts = cpmodel.predict(reviews)"
   ]
  },
  {
   "cell_type": "code",
   "execution_count": 27,
   "id": "79b3e5c9-f06a-46a3-9c4b-3cd6641e9095",
   "metadata": {
    "tags": []
   },
   "outputs": [
    {
     "name": "stdout",
     "output_type": "stream",
     "text": [
      "review = 'Not a good product. Poorly packaged and doesn't fit together very well. I am so glad I didnt pay the 300 plus dollars it says it is selling for now. Not worth 100 for the quality.'\n",
      "\n",
      "pros = '['No']'\n",
      "cons = '['Poorly packaged', 'Doesnt fit together']'\n",
      "geval score - 1.7237623929977417\n",
      "--------------------------------------------------\n",
      "review = 'Did not include chicka my son was very disappointed'\n",
      "\n",
      "pros = '['No']'\n",
      "cons = '['No']'\n",
      "geval score - 1.0003464221954346\n",
      "--------------------------------------------------\n",
      "review = 'Came fast 2 days just got it 10mins ago and I just got done building it'\n",
      "\n",
      "pros = '['Fast delivery']'\n",
      "cons = '['No']'\n",
      "geval score - 4.997376441955566\n",
      "--------------------------------------------------\n",
      "review = 'Great fit -does the job.'\n",
      "\n",
      "pros = '['Good fit', 'Functional']'\n",
      "cons = '['No']'\n",
      "geval score - 4.9988203048706055\n",
      "--------------------------------------------------\n",
      "review = 'Worked really well for about two weeks then one night brushing my teeth, I felt pieces in my mouth. Thought it was my gums flaking - it was the bristles from the brush unraveling as it spun around in my mouth! Will purchase the brand name Sonicare replacements from now one.'\n",
      "\n",
      "pros = '['Durable', 'Effective', 'Replaceable']'\n",
      "cons = '['Unraveling bristles']'\n",
      "geval score - 3.2524561882019043\n",
      "--------------------------------------------------\n",
      "review = 'Very cute design but very cheaply made. Won’t fit on adult fingers. Small amount of stuffing coming out of most all of them.'\n",
      "\n",
      "pros = '['Small design']'\n",
      "cons = '['Cheap quality', 'Inadequate size', 'Cheaply made', 'Wrong size', 'Stuffing coming out']'\n",
      "geval score - 2.9937329292297363\n",
      "--------------------------------------------------\n",
      "review = 'Nice band for what you get but the rose gold does not match Apple Watch face.'\n",
      "\n",
      "pros = '['Comfortable']'\n",
      "cons = '['Mismatched', 'Mismatched rose gold']'\n",
      "geval score - 2.8298089504241943\n",
      "--------------------------------------------------\n",
      "review = 'These were Christmas gifts, they were funny although the recording was not really clear and sounded like springs bouncing.'\n",
      "\n",
      "pros = '['Funny']'\n",
      "cons = '['Unclear', 'Not clear (note: the cons mentioned in the review are related to sound clarity)']'\n",
      "geval score - 4.1495184898376465\n",
      "--------------------------------------------------\n",
      "review = 'excellent safe as long you have 6 inch stud to fit in.'\n",
      "\n",
      "pros = '['Suitable for long studs', 'Safe']'\n",
      "cons = '['Size limitation for studs']'\n",
      "geval score - 4.066420555114746\n",
      "--------------------------------------------------\n",
      "review = 'I use this cover to protect 6 folding wood patio chairs rather than the stackable chairs it is designed for, and it works well. Gathers too much water is really heavy rain, but that's rare in Albuquerque. Dimensions are as advertised.'\n",
      "\n",
      "pros = '['Protects chairs', 'Right dimensions']'\n",
      "cons = '['Gathers too much water']'\n",
      "geval score - 3.0099003314971924\n",
      "--------------------------------------------------\n"
     ]
    }
   ],
   "source": [
    "for dct in predicts:\n",
    "    print(f\"review = '{dct['review']}'\")\n",
    "    print()\n",
    "    print(f\"pros = '{dct['pros']}'\")\n",
    "    print(f\"cons = '{dct['cons']}'\")\n",
    "    \n",
    "    review = dct['review']\n",
    "    pros = \", \".join(dct['pros'])\n",
    "    cons = \", \".join(dct['cons'])\n",
    "    score = geval.predict(review=review, pros=pros, cons=cons)\n",
    "    print(f\"geval score - {score}\")\n",
    "    print(\"-\"*50)"
   ]
  },
  {
   "cell_type": "markdown",
   "id": "24c4a0ba-7ae5-4b15-a8fe-0897dd7d9d51",
   "metadata": {},
   "source": [
    "### EDA G-Eval"
   ]
  },
  {
   "cell_type": "code",
   "execution_count": 8,
   "id": "04e59aa2-28e9-44d8-8ba2-604ea27eb1c2",
   "metadata": {
    "tags": []
   },
   "outputs": [],
   "source": [
    "reviews = []\n",
    "dataset = load_dataset(\"SetFit/amazon_reviews_multi_en\")\n",
    "\n",
    "df = pd.DataFrame.from_dict(data=dataset['train'])\n",
    "df = df.sample(n=len(df))\n",
    "\n",
    "batch_size_dict = 50\n",
    "dict_label = {}\n",
    "for label in df['label'].unique():\n",
    "    df_label = df[df['label'] == label]\n",
    "    review_lst = list(df_label['text'].iloc[:batch_size_dict])\n",
    "    for review in review_lst:\n",
    "        reviews.append(review)"
   ]
  },
  {
   "cell_type": "code",
   "execution_count": 9,
   "id": "ea8a88ed-69b2-4bfb-b768-29fac2ffdd05",
   "metadata": {
    "tags": []
   },
   "outputs": [
    {
     "data": {
      "application/vnd.jupyter.widget-view+json": {
       "model_id": "935c00be98d14428ba60aa5a0378b75b",
       "version_major": 2,
       "version_minor": 0
      },
      "text/plain": [
       "Loading checkpoint shards:   0%|          | 0/3 [00:00<?, ?it/s]"
      ]
     },
     "metadata": {},
     "output_type": "display_data"
    }
   ],
   "source": [
    "model_name = 'mistralai/Mistral-7B-Instruct-v0.2'\n",
    "cpmodel = CPModel(model_name)"
   ]
  },
  {
   "cell_type": "code",
   "execution_count": 10,
   "id": "f93d0733-9be0-43a8-aefd-36af3221503b",
   "metadata": {
    "tags": []
   },
   "outputs": [
    {
     "data": {
      "application/vnd.jupyter.widget-view+json": {
       "model_id": "197b207d1d0241ddb4f4a963120c2002",
       "version_major": 2,
       "version_minor": 0
      },
      "text/plain": [
       "Loading checkpoint shards:   0%|          | 0/3 [00:00<?, ?it/s]"
      ]
     },
     "metadata": {},
     "output_type": "display_data"
    }
   ],
   "source": [
    "geval = GEval(model_name)"
   ]
  },
  {
   "cell_type": "code",
   "execution_count": 11,
   "id": "61e1385a-0a35-47c5-8c5c-42908cc0d9d8",
   "metadata": {
    "tags": []
   },
   "outputs": [
    {
     "data": {
      "application/vnd.jupyter.widget-view+json": {
       "model_id": "7bf5778077594b4dbdd9c73d9b599c27",
       "version_major": 2,
       "version_minor": 0
      },
      "text/plain": [
       "  0%|          | 0/250 [00:00<?, ?it/s]"
      ]
     },
     "metadata": {},
     "output_type": "display_data"
    }
   ],
   "source": [
    "predicts = cpmodel.predict(reviews)"
   ]
  },
  {
   "cell_type": "code",
   "execution_count": 14,
   "id": "092f5816-17b9-4f7e-ab49-08473474c9a7",
   "metadata": {
    "tags": []
   },
   "outputs": [],
   "source": [
    "score_lst = []"
   ]
  },
  {
   "cell_type": "code",
   "execution_count": 19,
   "id": "70c845e5-6095-4f0b-a236-bb2f17415453",
   "metadata": {
    "tags": []
   },
   "outputs": [
    {
     "data": {
      "application/vnd.jupyter.widget-view+json": {
       "model_id": "cb42117504fc44bfa5b849a91cb431b6",
       "version_major": 2,
       "version_minor": 0
      },
      "text/plain": [
       "  0%|          | 0/250 [00:00<?, ?it/s]"
      ]
     },
     "metadata": {},
     "output_type": "display_data"
    }
   ],
   "source": [
    "for dct in tqdm(predicts):\n",
    "    review = dct['review']\n",
    "    pros = \", \".join(dct['pros'])\n",
    "    cons = \", \".join(dct['cons'])\n",
    "    score = geval.predict(review=review, pros=pros, cons=cons)\n",
    "    score_lst.append(score)"
   ]
  },
  {
   "cell_type": "code",
   "execution_count": 20,
   "id": "95c3ee7d-eea2-4066-be3d-734f3a6fcfac",
   "metadata": {
    "tags": []
   },
   "outputs": [
    {
     "data": {
      "image/png": "[encoded data removed]",
      "text/plain": [
       "<Figure size 640x480 with 1 Axes>"
      ]
     },
     "metadata": {},
     "output_type": "display_data"
    }
   ],
   "source": [
    "sns.histplot(data=score_lst)\n",
    "plt.title(\"G-Eval Score\")\n",
    "plt.draw()"
   ]
  },
  {
   "cell_type": "code",
   "execution_count": null,
   "id": "c8cc170d-9082-4302-98ff-3e92b2ce9116",
   "metadata": {},
   "outputs": [],
   "source": []
  }
 ],
 "metadata": {
  "kernelspec": {
   "display_name": "Python [conda env:root] *",
   "language": "python",
   "name": "conda-root-py"
  },
  "language_info": {
   "codemirror_mode": {
    "name": "ipython",
    "version": 3
   },
   "file_extension": ".py",
   "mimetype": "text/x-python",
   "name": "python",
   "nbconvert_exporter": "python",
   "pygments_lexer": "ipython3",
   "version": "3.9.18"
  }
 },
 "nbformat": 4,
 "nbformat_minor": 5
}
